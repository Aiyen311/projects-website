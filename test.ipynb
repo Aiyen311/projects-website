{
 "cells": [
  {
   "cell_type": "code",
   "execution_count": 3,
   "metadata": {},
   "outputs": [],
   "source": [
    "import psycopg2\n",
    "import os\n",
    "conn = psycopg2.connect(f\"dbname={os.getenv('DB_NAME')} user={os.getenv('DB_USER')} password={os.getenv('DB_PASSWORD')} host={os.getenv('DB_HOST')}\")\n"
   ]
  },
  {
   "cell_type": "code",
   "execution_count": 4,
   "metadata": {},
   "outputs": [],
   "source": [
    "import aiosql\n",
    "queries = aiosql.from_path(\"queries.sql\", \"psycopg2\")"
   ]
  },
  {
   "cell_type": "code",
   "execution_count": 5,
   "metadata": {},
   "outputs": [],
   "source": [
    "titles = [v[0] for v in queries.get_all_projects(conn)]\n",
    "year = [v[1] for v in queries.get_all_projects(conn)]"
   ]
  },
  {
   "cell_type": "code",
   "execution_count": 6,
   "metadata": {},
   "outputs": [
    {
     "name": "stdout",
     "output_type": "stream",
     "text": [
      "titles=['Merck (LabLogs)', 'Military Family Research Institute', 'IU Health', 'MISO', 'USDA Forest Service', 'Pacific Life', 'Wabash', 'SIA - Assembly Process Sequence Optimization', 'IntelinAir', 'Howmet Aerospace (Shell Properties)', 'John Deere 2 - Crop Text', 'John Deere 1 - Wildlife Conservation', \"Beck's Hybrids\", 'Merck (Biometrics)', 'Howmet Aerospace (Image Process System)', 'ATOM', 'DORIS', 'Ingenii', 'Inogen', 'Elanco', 'Merck (Computer Vision)', 'Yamaha', 'CDC - Poison Control', 'Delta Faucet', 'Renzoe Box', 'Purdue RESEC', 'Sandia (Flight)', 'Purdue Biomedical Engineering', 'Lockheed Martin', 'Purdue Student Life', 'Purdue EAPS', 'Viasat', 'CDC - Dose Error', 'Purdue Office of Engagement', 'Purdue Supplier Management', 'Minecraft', 'Co-Alliance', 'UNDECIDED', 'Merck (NLP)', 'Merck (LabLog MSDS)', 'Mara Elephant Project', 'Sandia (AESOP)', 'Webee 3 (Asset Tracking)', 'Webee 1 (Health of Things)', 'Pebblst', 'Nuvve', 'FSSA', 'Battelle 2 - Optimization NLP', 'Webee 4 (Energy)', 'Purdue Athletics (Tickets)', 'Purdue Athletics (Social Media)', 'Nationwide', 'Battelle 3 - Biodetection Platform', 'Webee 2 (Smart Irrigation)', 'Raytheon 2 (Business Intelligence)', 'USAA', 'Mursix', 'Central Insurance', 'Boeing', 'Bayer (Climate Impact)', 'Bayer (Yield Prediction)', 'Raytheon 1 (Data Driven Miss.)']\n"
     ]
    }
   ],
   "source": [
    "print(f\"{titles=}\")"
   ]
  },
  {
   "cell_type": "code",
   "execution_count": 7,
   "metadata": {},
   "outputs": [
    {
     "name": "stdout",
     "output_type": "stream",
     "text": [
      "year=[Decimal('2022'), Decimal('2022'), Decimal('2022'), Decimal('2022'), Decimal('2022'), Decimal('2022'), Decimal('2022'), Decimal('2022'), Decimal('2022'), Decimal('2022'), Decimal('2022'), Decimal('2022'), Decimal('2022'), Decimal('2022'), Decimal('2022'), Decimal('2022'), Decimal('2022'), Decimal('2022'), Decimal('2022'), Decimal('2022'), Decimal('2022'), Decimal('2022'), Decimal('2022'), Decimal('2022'), Decimal('2022'), Decimal('2022'), Decimal('2022'), Decimal('2022'), Decimal('2022'), Decimal('2022'), Decimal('2022'), Decimal('2022'), Decimal('2022'), Decimal('2022'), Decimal('2022'), Decimal('2022'), Decimal('2022'), Decimal('2022'), Decimal('2022'), Decimal('2022'), Decimal('2022'), Decimal('2022'), Decimal('2022'), Decimal('2022'), Decimal('2022'), Decimal('2022'), Decimal('2022'), Decimal('2022'), Decimal('2022'), Decimal('2022'), Decimal('2022'), Decimal('2022'), Decimal('2022'), Decimal('2022'), Decimal('2022'), Decimal('2022'), Decimal('2022'), Decimal('2022'), Decimal('2022'), Decimal('2022'), Decimal('2022'), Decimal('2022')]\n"
     ]
    }
   ],
   "source": [
    "print(f\"{year=}\")"
   ]
  },
  {
   "cell_type": "code",
   "execution_count": 8,
   "metadata": {},
   "outputs": [
    {
     "name": "stdout",
     "output_type": "stream",
     "text": [
      "('Merck (LabLogs)', Decimal('2022'))\n"
     ]
    }
   ],
   "source": [
    "projects = [v for v in queries.get_all_projects(conn)]\n",
    "print(projects[0])"
   ]
  },
  {
   "cell_type": "code",
   "execution_count": 9,
   "metadata": {},
   "outputs": [
    {
     "data": {
      "text/plain": [
       "[('Merck (LabLogs)', Decimal('2022')),\n",
       " ('Military Family Research Institute', Decimal('2022')),\n",
       " ('IU Health', Decimal('2022')),\n",
       " ('MISO', Decimal('2022')),\n",
       " ('USDA Forest Service', Decimal('2022')),\n",
       " ('Pacific Life', Decimal('2022')),\n",
       " ('Wabash', Decimal('2022')),\n",
       " ('SIA - Assembly Process Sequence Optimization', Decimal('2022')),\n",
       " ('IntelinAir', Decimal('2022')),\n",
       " ('Howmet Aerospace (Shell Properties)', Decimal('2022')),\n",
       " ('John Deere 2 - Crop Text', Decimal('2022')),\n",
       " ('John Deere 1 - Wildlife Conservation', Decimal('2022')),\n",
       " (\"Beck's Hybrids\", Decimal('2022')),\n",
       " ('Merck (Biometrics)', Decimal('2022')),\n",
       " ('Howmet Aerospace (Image Process System)', Decimal('2022')),\n",
       " ('ATOM', Decimal('2022')),\n",
       " ('DORIS', Decimal('2022')),\n",
       " ('Ingenii', Decimal('2022')),\n",
       " ('Inogen', Decimal('2022')),\n",
       " ('Elanco', Decimal('2022')),\n",
       " ('Merck (Computer Vision)', Decimal('2022')),\n",
       " ('Yamaha', Decimal('2022')),\n",
       " ('CDC - Poison Control', Decimal('2022')),\n",
       " ('Delta Faucet', Decimal('2022')),\n",
       " ('Renzoe Box', Decimal('2022')),\n",
       " ('Purdue RESEC', Decimal('2022')),\n",
       " ('Sandia (Flight)', Decimal('2022')),\n",
       " ('Purdue Biomedical Engineering', Decimal('2022')),\n",
       " ('Lockheed Martin', Decimal('2022')),\n",
       " ('Purdue Student Life', Decimal('2022')),\n",
       " ('Purdue EAPS', Decimal('2022')),\n",
       " ('Viasat', Decimal('2022')),\n",
       " ('CDC - Dose Error', Decimal('2022')),\n",
       " ('Purdue Office of Engagement', Decimal('2022')),\n",
       " ('Purdue Supplier Management', Decimal('2022')),\n",
       " ('Minecraft', Decimal('2022')),\n",
       " ('Co-Alliance', Decimal('2022')),\n",
       " ('UNDECIDED', Decimal('2022')),\n",
       " ('Merck (NLP)', Decimal('2022')),\n",
       " ('Merck (LabLog MSDS)', Decimal('2022')),\n",
       " ('Mara Elephant Project', Decimal('2022')),\n",
       " ('Sandia (AESOP)', Decimal('2022')),\n",
       " ('Webee 3 (Asset Tracking)', Decimal('2022')),\n",
       " ('Webee 1 (Health of Things)', Decimal('2022')),\n",
       " ('Pebblst', Decimal('2022')),\n",
       " ('Nuvve', Decimal('2022')),\n",
       " ('FSSA', Decimal('2022')),\n",
       " ('Battelle 2 - Optimization NLP', Decimal('2022')),\n",
       " ('Webee 4 (Energy)', Decimal('2022')),\n",
       " ('Purdue Athletics (Tickets)', Decimal('2022')),\n",
       " ('Purdue Athletics (Social Media)', Decimal('2022')),\n",
       " ('Nationwide', Decimal('2022')),\n",
       " ('Battelle 3 - Biodetection Platform', Decimal('2022')),\n",
       " ('Webee 2 (Smart Irrigation)', Decimal('2022')),\n",
       " ('Raytheon 2 (Business Intelligence)', Decimal('2022')),\n",
       " ('USAA', Decimal('2022')),\n",
       " ('Mursix', Decimal('2022')),\n",
       " ('Central Insurance', Decimal('2022')),\n",
       " ('Boeing', Decimal('2022')),\n",
       " ('Bayer (Climate Impact)', Decimal('2022')),\n",
       " ('Bayer (Yield Prediction)', Decimal('2022')),\n",
       " ('Raytheon 1 (Data Driven Miss.)', Decimal('2022'))]"
      ]
     },
     "execution_count": 9,
     "metadata": {},
     "output_type": "execute_result"
    }
   ],
   "source": [
    "projects = sorted(projects, key=lambda x: x[1])"
   ]
  },
  {
   "cell_type": "code",
   "execution_count": 11,
   "metadata": {},
   "outputs": [
    {
     "data": {
      "text/plain": [
       "Decimal('2022')"
      ]
     },
     "execution_count": 11,
     "metadata": {},
     "output_type": "execute_result"
    }
   ],
   "source": [
    "projects[0][1]"
   ]
  },
  {
   "cell_type": "code",
   "execution_count": 12,
   "metadata": {},
   "outputs": [
    {
     "name": "stdout",
     "output_type": "stream",
     "text": [
      "2022\n",
      "Merck (LabLogs)\n",
      "Military Family Research Institute\n",
      "IU Health\n",
      "MISO\n",
      "USDA Forest Service\n",
      "Pacific Life\n",
      "Wabash\n",
      "SIA - Assembly Process Sequence Optimization\n",
      "IntelinAir\n",
      "Howmet Aerospace (Shell Properties)\n",
      "John Deere 2 - Crop Text\n",
      "John Deere 1 - Wildlife Conservation\n",
      "Beck's Hybrids\n",
      "Merck (Biometrics)\n",
      "Howmet Aerospace (Image Process System)\n",
      "ATOM\n",
      "DORIS\n",
      "Ingenii\n",
      "Inogen\n",
      "Elanco\n",
      "Merck (Computer Vision)\n",
      "Yamaha\n",
      "CDC - Poison Control\n",
      "Delta Faucet\n",
      "Renzoe Box\n",
      "Purdue RESEC\n",
      "Sandia (Flight)\n",
      "Purdue Biomedical Engineering\n",
      "Lockheed Martin\n",
      "Purdue Student Life\n",
      "Purdue EAPS\n",
      "Viasat\n",
      "CDC - Dose Error\n",
      "Purdue Office of Engagement\n",
      "Purdue Supplier Management\n",
      "Minecraft\n",
      "Co-Alliance\n",
      "UNDECIDED\n",
      "Merck (NLP)\n",
      "Merck (LabLog MSDS)\n",
      "Mara Elephant Project\n",
      "Sandia (AESOP)\n",
      "Webee 3 (Asset Tracking)\n",
      "Webee 1 (Health of Things)\n",
      "Pebblst\n",
      "Nuvve\n",
      "FSSA\n",
      "Battelle 2 - Optimization NLP\n",
      "Webee 4 (Energy)\n",
      "Purdue Athletics (Tickets)\n",
      "Purdue Athletics (Social Media)\n",
      "Nationwide\n",
      "Battelle 3 - Biodetection Platform\n",
      "Webee 2 (Smart Irrigation)\n",
      "Raytheon 2 (Business Intelligence)\n",
      "USAA\n",
      "Mursix\n",
      "Central Insurance\n",
      "Boeing\n",
      "Bayer (Climate Impact)\n",
      "Bayer (Yield Prediction)\n",
      "Raytheon 1 (Data Driven Miss.)\n"
     ]
    }
   ],
   "source": [
    "a = projects[0][1]\n",
    "print(a)\n",
    "for project in projects:\n",
    "    if(project[1] == a):\n",
    "        print(project[0])\n",
    "    else:\n",
    "        print(project[1])\n",
    "        print(project[0])\n",
    "        a = project[1]      "
   ]
  },
  {
   "cell_type": "code",
   "execution_count": null,
   "metadata": {},
   "outputs": [],
   "source": [
    "projects = [v[0] for v in queries.get_all_projects(conn)]\n",
    "years = [v[1] for v in queries.get_all_projects(conn)]"
   ]
  }
 ],
 "metadata": {
  "kernelspec": {
   "display_name": "Python 3",
   "language": "python",
   "name": "python3"
  },
  "language_info": {
   "codemirror_mode": {
    "name": "ipython",
    "version": 3
   },
   "file_extension": ".py",
   "mimetype": "text/x-python",
   "name": "python",
   "nbconvert_exporter": "python",
   "pygments_lexer": "ipython3",
   "version": "3.11.3"
  },
  "orig_nbformat": 4
 },
 "nbformat": 4,
 "nbformat_minor": 2
}
